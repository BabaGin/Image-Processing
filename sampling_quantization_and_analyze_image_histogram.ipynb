{
  "nbformat": 4,
  "nbformat_minor": 0,
  "metadata": {
    "colab": {
      "provenance": [],
      "toc_visible": true,
      "mount_file_id": "1tc6593H74-IMYrHpyQEHkOnaWjp3ggjy",
      "authorship_tag": "ABX9TyNPNEnIEvE3NLQiCo/EKEAn",
      "include_colab_link": true
    },
    "kernelspec": {
      "name": "python3",
      "display_name": "Python 3"
    },
    "language_info": {
      "name": "python"
    }
  },
  "cells": [
    {
      "cell_type": "markdown",
      "metadata": {
        "id": "view-in-github",
        "colab_type": "text"
      },
      "source": [
        "<a href=\"https://colab.research.google.com/github/BabaGin/Image-Processing/blob/main/sampling_quantization_and_analyze_image_histogram.ipynb\" target=\"_parent\"><img src=\"https://colab.research.google.com/assets/colab-badge.svg\" alt=\"Open In Colab\"/></a>"
      ]
    },
    {
      "cell_type": "markdown",
      "source": [
        "# **Tutorial 3 - Sampling, Quantization and Analyze Image Histogram**"
      ],
      "metadata": {
        "id": "BR4DtiPn9UH0"
      }
    },
    {
      "cell_type": "markdown",
      "source": [
        "\n",
        "![Mount Drive](https://drive.google.com/uc?id=1yibdRni2VyRt5XOIODRpFURhdVFgYYLB)"
      ],
      "metadata": {
        "id": "EDlZ8SrlI37F"
      }
    },
    {
      "cell_type": "markdown",
      "source": [
        "## **Understanding Image Sampling and Quantization in Image Processing**\n",
        "---\n",
        "\n",
        "In image processing, sampling and quantization are fundamental concepts that play crucial roles in digital image representation and processing. Sampling refers to the process of converting continuous image data into discrete pixels, while quantization involves reducing the number of possible intensity levels in an image. In this tutorial, we will delve into the concepts of image sampling and quantization, exploring their significance and demonstrating their implementation using Python and OpenCV.\n",
        "\n",
        "**Sampling:**\n",
        "\n",
        "Sampling is the process of converting continuous image data into a discrete grid of pixels. It involves capturing the continuous variation of intensity or color in an image at discrete points. The sampling rate, often referred to as the resolution, determines the level of detail captured in the image.\n",
        "\n",
        "Imagine taking a digital photograph: the camera sensor captures the continuous variation of light intensity in the scene and converts it into a grid of pixels, where each pixel represents a discrete sample of the scene's intensity at a specific location.\n",
        "\n",
        "**Quantization:**\n",
        "\n",
        "Quantization involves reducing the number of possible intensity levels in an image. It is akin to reducing the color palette or grayscale levels in an image. By quantizing an image, we simplify its representation, which can be beneficial for reducing storage space or processing requirements.\n",
        "\n",
        "For example, consider an 8-bit grayscale image with 256 intensity levels. Quantizing this image to only 64 levels would mean that several nearby intensity values are mapped to the same quantized value, resulting in a loss of detail but potentially reducing noise and simplifying subsequent processing steps.\n",
        "\n",
        "<center>\n",
        "    <img src=\"https://drive.google.com/uc?id=1QirMWlP9gM9br8kNpzsMClpKUNJ1j-oC\" alt=\"centered image\" />\n",
        "</center>\n",
        "\n",
        "**Summary:**\n",
        "Understanding image sampling and quantization is essential for digital image processing tasks. Sampling defines the resolution and detail captured in an image, while quantization simplifies its representation by reducing the number of intensity levels. By mastering these concepts and their implementation, you gain valuable insights into how digital images are represented and processed.\n"
      ],
      "metadata": {
        "id": "2mizTCbP9D5m"
      }
    },
    {
      "cell_type": "markdown",
      "source": [
        "## Sampling\n",
        "\n",
        "---\n",
        "\n",
        "**Introduction:**\n",
        "In image processing, sampling plays a crucial role in converting continuous image data into discrete pixels. The sampling rate, often referred to as the resolution, determines the level of detail captured in an image. In this tutorial, we'll explore the impact of different sampling rates on image quality and size using Python, OpenCV, and Matplotlib.\n",
        "\n",
        "**Prerequisites:**\n",
        "1. Basic understanding of Python programming.\n",
        "2. Familiarity with OpenCV library in Python.\n",
        "3. Installed OpenCV library (can be installed via pip: `pip install opencv-python`).\n",
        "4. Matplotlib library (can be installed via pip: `pip install matplotlib`).\n",
        "\n",
        "**Steps to Explore Different Sampling Rates:**\n",
        "\n",
        "**Step 1: Import Necessary Libraries**\n",
        "```python\n",
        "import cv2\n",
        "import matplotlib.pyplot as plt\n",
        "```\n",
        "\n",
        "**Step 2: Load the Image**\n",
        "```python\n",
        "# Load the image\n",
        "image = cv2.imread('path_to_image.jpg')\n",
        "```\n",
        "\n",
        "**Step 3: Visualize the Original Image**\n",
        "```python\n",
        "# Convert image to RGB (OpenCV loads images in BGR format by default)\n",
        "image_rgb = cv2.cvtColor(image, cv2.COLOR_BGR2RGB)\n",
        "\n",
        "# Plot the original image\n",
        "plt.figure(figsize=(8, 6))\n",
        "plt.imshow(image_rgb)\n",
        "plt.title('Original Image')\n",
        "plt.axis('off')\n",
        "plt.show()\n",
        "```\n",
        "\n",
        "**Step 4: Explore Different Sampling Rates**\n",
        "```python\n",
        "# Define different sampling rates\n",
        "\"\"\"for each rate, it downsamples the original image by selecting\n",
        "every rate-th pixel along both the rows and columns\"\"\"\n",
        "sampling_rates = [1, 2, 4, 8]\n",
        "\n",
        "# Plot images sampled at different rates\n",
        "plt.figure(figsize=(12, 8))\n",
        "for i, rate in enumerate(sampling_rates):\n",
        "    # Sample the image\n",
        "    sampled_image = image_rgb[::rate, ::rate]\n",
        "    \n",
        "    # Plot the sampled image\n",
        "    plt.subplot(2, 2, i+1)\n",
        "    plt.imshow(sampled_image)\n",
        "    plt.title('Sampling Rate: {}'.format(rate))\n",
        "    plt.axis('off')\n",
        "\n",
        "plt.tight_layout()\n",
        "plt.show()\n",
        "```\n",
        "\n",
        "**Explanation:**\n",
        "\n",
        "- In Step 2, we load the image using `cv2.imread()`.\n",
        "- Step 3 involves converting the image from BGR to RGB format using `cv2.cvtColor()` and visualizing the original image using Matplotlib.\n",
        "- Step 4 explores different sampling rates by sampling the image at various intervals (`rate`) along both the width and height dimensions. We visualize the sampled images using Matplotlib.\n",
        "---\n",
        "```python\n",
        "for i, rate in enumerate(sampling_rates):\n",
        "    # Sample the image\n",
        "    sampled_image = image_rgb[::rate, ::rate]\n",
        "```\n",
        "\n",
        "This code is part of a loop that iterates over each `rate` value in the `sampling_rates` list. Here's an explanation of each part:\n",
        "\n",
        "1. **`for i, rate in enumerate(sampling_rates):`**  \n",
        "   - This line initiates a loop that iterates over each element (`rate`) in the `sampling_rates` list.\n",
        "   - The `enumerate()` function is used to simultaneously iterate over the elements of the `sampling_rates` list and get their corresponding indices (`i`). This allows us to keep track of the index while iterating.\n",
        "\n",
        "2. **`sampled_image = image_rgb[::rate, ::rate]`**  \n",
        "   - Inside the loop, this line samples the image (`image_rgb`) using the current sampling rate (`rate`).\n",
        "   - The slicing notation `[::rate]` is used to sample the image by selecting every `rate`-th pixel along both the rows and columns.\n",
        "   - For example, if `rate` is 2, the sliced image will contain every other pixel, effectively downsampling the image by a factor of 2 in both dimensions.\n",
        "   - The result is stored in the variable `sampled_image`, which holds the downsampled version of the original image for the current `rate`.\n",
        "\n",
        "In summary, this code iterates over a list of sampling rates, and for each rate, it downsamples the original image by selecting every `rate`-th pixel along both the rows and columns, effectively reducing the resolution of the image based on the specified sampling rate.\n",
        "\n",
        "---\n",
        "\n",
        "\n"
      ],
      "metadata": {
        "id": "t8mi-OLqbsHe"
      }
    },
    {
      "cell_type": "markdown",
      "source": [
        "### Exercise 1\n",
        "Download the following 'hello-meme.jpeg' image file and save it to your drive.\n",
        "\n",
        "```python\n",
        "!wget https://raw.githubusercontent.com/BabaGin/Image-Processing/main/sample%20images/hello-meme.jpeg -O meme.jpeg\n",
        "```\n",
        "\n",
        "By following the sampling tutorial provided, define different sampling rates as '[1, 2, 4, 8, 16, 32, 64, 128]'. Then, plot the 'Original image' in a single figure and plot the output images with various sampling rates into a 2x4 grid in the same figure using `plt.subplot()`. Finally, analyze the results.\n",
        "\n",
        "---\n",
        "\n",
        "**Expected Output:**\n",
        "<center>\n",
        "    <img src=\"https://drive.google.com/uc?id=1KmPxfQWUbH_7lU-pOwzEUecL8rVe6cXE\" alt=\"centered image\" />\n",
        "</center>"
      ],
      "metadata": {
        "id": "fekEtNTt3XCs"
      }
    },
    {
      "cell_type": "code",
      "source": [
        "#Type your code here:\n"
      ],
      "metadata": {
        "id": "8jYsUS1miXtL"
      },
      "execution_count": null,
      "outputs": []
    },
    {
      "cell_type": "markdown",
      "source": [
        "<details><summary>Click here for the alternate solution</summary>\n",
        "\n",
        "```python    \n",
        " \"\"\"This is the alternate solution. However, this code uses downsample set for the subplot title\n",
        "    \"\"\"\n",
        "import cv2\n",
        "import numpy as np\n",
        "import matplotlib.pyplot as plt\n",
        "\n",
        "def downsample_image(image_path, factor=2):\n",
        "    \"\"\"Takes in the image path and the downsample factor to return 5\n",
        "    downsampled images together with the original image.\n",
        "    \"\"\"\n",
        "    # Load the original image\n",
        "    img = cv2.imread(image_path)\n",
        "\n",
        "    # Sample the image by a factor\n",
        "    factors = factor**np.arange(0, 7)\n",
        "\n",
        "    # Create a subplot for each sampled image\n",
        "    fig, ax = plt.subplots(2, 4, figsize=(14, 7))\n",
        "\n",
        "    # Display the original image\n",
        "    ax[0, 0].imshow(cv2.cvtColor(img, cv2.COLOR_BGR2RGB))\n",
        "    ax[0, 0].set_title('Original')\n",
        "\n",
        "    # Loop over each sampling factor and sample the image\n",
        "    for i, factor in enumerate(factors):\n",
        "        # Sample the image using the current factor\n",
        "        image = cv2.resize(img,\n",
        "                           (img.shape[1] // factor, img.shape[0] // factor))\n",
        "\n",
        "        # Determine the axis number for this subplot\n",
        "        row = (i + 1) // 4\n",
        "        col = (i + 1) % 4\n",
        "\n",
        "        # Display the sampled image on the corresponding subplot\n",
        "        ax[row, col].imshow(cv2.cvtColor(image, cv2.COLOR_BGR2RGB))\n",
        "\n",
        "        # Set the subplot title to the size of the sampled image\n",
        "        ax[row, col].set_title(r'$N=%d$' % image.shape[0])\n",
        "\n",
        "    # Hide empty subplots if there are less than 8 samples\n",
        "    if len(factors) < 7:\n",
        "        for i in range(len(factors) + 1, 8):\n",
        "            ax[i // 4, i % 4].axis('off')\n",
        "\n",
        "    # Adjust the layout of the subplots to prevent overlap\n",
        "    plt.tight_layout()\n",
        "\n",
        "    # Show the final plot\n",
        "    plt.show()\n",
        "\n",
        "# Downsample an image\n",
        "downsample_image('path_to_image.jpg')\n",
        "\n",
        "```\n",
        "\n",
        "</details>\n"
      ],
      "metadata": {
        "id": "_xBM0GqA1y6W"
      }
    },
    {
      "cell_type": "markdown",
      "source": [
        "## Quantization\n",
        "---\n",
        "Quantization in image processing involves reducing the number of colors or intensity levels in an image. This process can simplify the image representation while preserving essential features. Here's how you can quantize an image using OpenCV in Python and visualize the result using Matplotlib:\n",
        "\n",
        "```python\n",
        "#Type your code here:\n",
        "import cv2\n",
        "import numpy as np\n",
        "import matplotlib.pyplot as plt\n",
        "\n",
        "def quantize_image(image_path, k_values):\n",
        "    \"\"\"\n",
        "    Perform quantization on an image using different values of k.\n",
        "\n",
        "    Parameters:\n",
        "        image_path (str): The path to the image file.\n",
        "        k_values (list): A list of k values to be used for quantization.\n",
        "    \"\"\"\n",
        "    # Load the original image\n",
        "    # img = cv2.imread(image_path, cv2.IMREAD_GRAYSCALE) #use this line instead for grayscale image\n",
        "    img = cv2.cvtColor(cv2.imread(image_path), cv2.COLOR_BGR2RGB)\n",
        "\n",
        "    # Create subplots for different k values\n",
        "    fig, ax = plt.subplots(1, len(k_values), figsize=(16, 4))\n",
        "\n",
        "    for i, k in enumerate(k_values):\n",
        "        # Create k bins of equal width between 0 and the maximum intensity value\n",
        "        bins = np.linspace(0, 255, k+1)\n",
        "\n",
        "        # Map the pixel values of the original image to the nearest bin\n",
        "        quantized_image = np.digitize(img, bins)\n",
        "\n",
        "        # Convert the binned values back to the original range of intensity values\n",
        "        reconstructed_image = (np.vectorize(bins.tolist().__getitem__)(quantized_image-1)\n",
        "                                .astype(np.uint8))\n",
        "\n",
        "        # Display the quantized image with title showing the number of bins (k)\n",
        "        ax[i].imshow(reconstructed_image, cmap='gray')\n",
        "        ax[i].set_title(r'$k = %d$' % k)\n",
        "        ax[i].axis('off')\n",
        "\n",
        "    # Adjust the layout of the subplots to prevent overlap\n",
        "    plt.tight_layout()\n",
        "\n",
        "    # Show the final plot\n",
        "    plt.show()\n",
        "\n",
        "# Quantize the image\n",
        "k_values = [2, 4, 8, 16]\n",
        "quantize_image('path_to_image.jpg', k_values)\n",
        "```\n",
        "\n",
        "In this script:\n",
        "\n",
        "This code performs image quantization using different values of \\( k \\), where \\( k \\) represents the number of bins used for quantization. Let's break down the code:\n",
        "\n",
        "1. **Import Libraries:**\n",
        "   - The code imports necessary libraries: `cv2` for image processing, `numpy` for numerical operations, and `matplotlib.pyplot` for visualization.\n",
        "\n",
        "2. **Function Definition:**\n",
        "   - The `quantize_image` function takes two parameters: `image_path`, the path to the image file, and `k_values`, a list of \\( k \\) values to be used for quantization.\n",
        "\n",
        "3. **Load the Image:**\n",
        "   - The original image is loaded in grayscale mode using `cv2.imread()` with the flag `cv2.IMREAD_GRAYSCALE`, which converts the image to a single-channel grayscale image.\n",
        "\n",
        "4. **Create Subplots:**\n",
        "   - Matplotlib's `plt.subplots()` function creates a 2x4 grid of subplots to display the quantized images.\n",
        "\n",
        "5. **Quantization Loop:**\n",
        "   - For each \\( k \\) value in the `k_values` list, the code iterates through the loop.\n",
        "   - It creates `k` bins of equal width between 0 and 255 using `np.linspace()`.\n",
        "   - The pixel values of the original image are mapped to the nearest bin using `np.digitize()`, resulting in a quantized image.\n",
        "   - The quantized pixel values are converted back to the original range of intensity values using `np.vectorize()` and `astype(np.uint8)`.\n",
        "   - The quantized image is displayed in the corresponding subplot with a title showing the number of bins (\\( k \\)).\n",
        "\n",
        "6. **Layout Adjustment:**\n",
        "   - The layout of the subplots is adjusted to prevent overlap using `plt.tight_layout()`.\n",
        "\n",
        "7. **Show Plot:**\n",
        "   - Finally, the plot displaying the quantized images is shown using `plt.show()`.\n",
        "\n",
        "8. **Quantize the Image:**\n",
        "   - The `k_values` list specifies different values of \\( k \\) for quantization.\n",
        "   - The `quantize_image` function is called with the path to the image file ('path_to_image.jpg') and the list of \\( k \\) values.\n",
        "\n",
        "In summary, this code quantizes an input grayscale image using different numbers of bins (\\( k \\)) for quantization and visualizes the quantized images in a 2x4 grid plot, with each subplot corresponding to a different \\( k \\) value."
      ],
      "metadata": {
        "id": "0l9aAORAeq-y"
      }
    },
    {
      "cell_type": "markdown",
      "source": [
        "### Exercise 2\n",
        " Load any image from your GDrive and convert into RGB colored image. Define different quantization level as 'k_values = [1, 2, 4, 8, 16, 32, 64, 128]'. Then, plot all the output images in a 2x4 grid in the same figure using `plt.subplot()`. Finally, analyze the results."
      ],
      "metadata": {
        "id": "BJuWOwL6fPGV"
      }
    },
    {
      "cell_type": "code",
      "source": [
        "#Type your code here:\n"
      ],
      "metadata": {
        "id": "KZ4ayJt3fOkm"
      },
      "execution_count": null,
      "outputs": []
    },
    {
      "cell_type": "markdown",
      "source": [
        "### Exercise 3\n",
        " Load any image from your GDrive and convert into grayscale image. Define different quantization level as 'k_values = [1, 2, 4, 8, 16, 32, 64, 128]'. Then, plot all the output images in a 2x4 grid in the same figure using `plt.subplot()`. Finally, analyze the results."
      ],
      "metadata": {
        "id": "31nNpyOQkGfr"
      }
    },
    {
      "cell_type": "code",
      "source": [
        "#Type your code here:\n"
      ],
      "metadata": {
        "id": "ja1oSdAtkdKv"
      },
      "execution_count": null,
      "outputs": []
    },
    {
      "cell_type": "markdown",
      "source": [
        "##Image Histogram\n",
        "**(Understanding and Visualizing Image Histograms using OpenCV in Python)**\n",
        "\n",
        "---\n",
        "\n",
        "**Introduction:**\n",
        "In image processing, histograms are powerful tools for understanding the distribution of pixel intensities in an image. They provide valuable insights into the contrast, brightness, and overall tonal range present within an image. In this tutorial, we'll delve into how to compute and visualize image histograms using OpenCV in Python.\n",
        "\n",
        "**Understanding Image Histograms:**\n",
        "Before we dive into the coding part, let's briefly understand what an image histogram represents. An image histogram is a graphical representation of the distribution of pixel intensities in an image. It typically plots the frequency of occurrence of each intensity level (ranging from 0 to 255 for grayscale images) along the x-axis and the corresponding number of pixels with that intensity on the y-axis.\n",
        "\n",
        "**Steps to Compute and Visualize Image Histogram:**\n",
        "\n",
        "**Step 1: Import Necessary Libraries**\n",
        "```python\n",
        "import cv2\n",
        "import numpy as np\n",
        "import matplotlib.pyplot as plt\n",
        "```\n",
        "\n",
        "**Step 2: Load the Image**\n",
        "```python\n",
        "# Load the image\n",
        "image = cv2.imread('path_to_image.jpg', cv2.IMREAD_GRAYSCALE)\n",
        "```\n",
        "\n",
        "**Step 3: Compute the Histogram**\n",
        "```python\n",
        "# Compute the histogram\n",
        "histogram = cv2.calcHist([image], [0], None, [256], [0, 256])\n",
        "```\n",
        "\n",
        "**Step 4: Visualize the Histogram**\n",
        "```python\n",
        "# Plot the histogram\n",
        "plt.plot(histogram, color='black')\n",
        "plt.xlabel('Pixel Intensity')\n",
        "plt.ylabel('Frequency')\n",
        "plt.title('Image Histogram')\n",
        "plt.show()\n",
        "```\n",
        "\n",
        "**Step 5: Optional - Display the Image**\n",
        "```python\n",
        "# Display the original image\n",
        "cv2.imshow('Original Image', image)\n",
        "cv2.waitKey(0)\n",
        "cv2.destroyAllWindows()\n",
        "```\n",
        "\n",
        "**Explanation:**\n",
        "\n",
        "- In Step 1, we import the necessary libraries: `cv2` for image processing, `numpy` for numerical operations, and `matplotlib.pyplot` for plotting the histogram.\n",
        "- In Step 2, we load the image in grayscale mode using `cv2.imread()`.\n",
        "- Step 3 involves computing the histogram using `cv2.calcHist()`. We pass the image, channel (in this case, 0 for grayscale), mask (None for the entire image), the number of bins (256 for 8-bit images), and the range of pixel values (0 to 256).\n",
        "- Step 4 visualizes the histogram using `matplotlib.pyplot.plot()`. We plot the histogram with pixel intensity on the x-axis and frequency on the y-axis.\n",
        "- Optionally, in Step 5, we can display the original image using `cv2.imshow()`.\n",
        "\n",
        "\n",
        "\n"
      ],
      "metadata": {
        "id": "Mkbtl_81BAnP"
      }
    },
    {
      "cell_type": "markdown",
      "source": [
        "### **Histogram of Colored Image**\n",
        "---\n",
        "Visualizing and analyzing histograms of colored images follows a similar process to grayscale images, with some modifications to handle the channels representing different color components (e.g., Red, Green, and Blue). Let's extend the tutorial to include colored image histograms:\n",
        "\n",
        "**Step 1: Import Necessary Libraries**\n",
        "```python\n",
        "import cv2\n",
        "import numpy as np\n",
        "import matplotlib.pyplot as plt\n",
        "```\n",
        "\n",
        "**Step 2: Load the Image**\n",
        "```python\n",
        "# Load the image\n",
        "image = cv2.imread('path_to_image.jpg')\n",
        "```\n",
        "\n",
        "**Step 3: Split Channels and Compute Histograms**\n",
        "```python\n",
        "# Split channels\n",
        "channels = cv2.split(image)\n",
        "\n",
        "# Colors for plotting\n",
        "colors = ('b', 'g', 'r')\n",
        "\n",
        "# Plot each channel's histogram\n",
        "plt.figure(figsize=(8, 6))\n",
        "for i, channel in enumerate(channels):\n",
        "    histogram = cv2.calcHist([channel], [0], None, [256], [0, 256])\n",
        "    plt.plot(histogram, color=colors[i], label=colors[i].upper())\n",
        "    \n",
        "plt.xlabel('Pixel Intensity')\n",
        "plt.ylabel('Frequency')\n",
        "plt.title('Colored Image Histogram')\n",
        "plt.legend()\n",
        "plt.show()\n",
        "```\n",
        "\n",
        "**Step 4: Display the Original Image**\n",
        "```python\n",
        "# Display the original image\n",
        "cv2.imshow('Original Image', image)\n",
        "cv2.waitKey(0)\n",
        "cv2.destroyAllWindows()\n",
        "```\n",
        "\n",
        "**Explanation:**\n",
        "\n",
        "- In Step 2, we load the colored image using `cv2.imread()`.\n",
        "- Step 3 involves splitting the image into its color channels using `cv2.split()`. Then, we calculate the histogram for each channel separately using `cv2.calcHist()`. We plot each channel's histogram with different colors (Blue, Green, and Red) using `matplotlib.pyplot.plot()`.\n",
        "- Step 4 is optional and displays the original colored image using `cv2.imshow()`.\n",
        "\n",
        "**Conclusion:**\n",
        "By following these steps, you can compute and visualize histograms for colored images using OpenCV in Python. Analyzing colored image histograms provides insights into the distribution of pixel intensities across different color channels, facilitating various image processing tasks such as color correction, segmentation, and enhancement.\n",
        "\n",
        "---\n"
      ],
      "metadata": {
        "id": "LQyvzPpWAv8O"
      }
    },
    {
      "cell_type": "markdown",
      "source": [
        "### Exercise 4\n",
        "\n",
        "Load 3 different images from Google Drive, analyze them using image histograms, and plot the results in a 2x3 grid.\n",
        "\n",
        "---\n",
        "**Expected Output (You can use different input images):**\n",
        "<center>\n",
        "    <img src=\"https://drive.google.com/uc?id=1oFcM2j5oo_DZG9vyzhyqDlni6ze1N_wr\" alt=\"centered image\" />\n",
        "</center>"
      ],
      "metadata": {
        "id": "VWLYSfIbBe86"
      }
    },
    {
      "cell_type": "code",
      "source": [
        "#Type your code here:\n"
      ],
      "metadata": {
        "id": "xWuRSXKmA-u9"
      },
      "execution_count": null,
      "outputs": []
    },
    {
      "cell_type": "markdown",
      "source": [
        "### Exercise 5\n",
        "\n",
        "Load 3 different images from Google Drive, analyze them using image histograms grayscaled version, and plot the results in a 2x3 grid.\n",
        "\n",
        "---\n",
        "**Expected Output (You can use different input images):**\n",
        "<center>\n",
        "    <img src=\"https://drive.google.com/uc?id=1V-856XiPkr58_3qDcBle1DEdnv5nCW6V\" alt=\"centered image\" />\n",
        "</center>"
      ],
      "metadata": {
        "id": "DhlwRi_8DMHU"
      }
    },
    {
      "cell_type": "code",
      "source": [
        "#Type your code here:\n",
        "\n"
      ],
      "metadata": {
        "id": "C2Y_qp0bDelu"
      },
      "execution_count": null,
      "outputs": []
    },
    {
      "cell_type": "markdown",
      "source": [
        "### Bonus Tutorial\n",
        "\n",
        "You can use the following code to load 3 different images from Google Drive, analyze them using image histograms, and plot each channel's histogram value on each histogram.\n",
        "\n",
        "---\n",
        "\n",
        "```python\n",
        "import cv2\n",
        "import numpy as np\n",
        "import matplotlib.pyplot as plt\n",
        "from google.colab import drive\n",
        "\n",
        "# Mount Google Drive\n",
        "drive.mount('/content/drive')\n",
        "\n",
        "def plot_image_histogram(image, ax, color):\n",
        "    \"\"\"\n",
        "    Plot the histogram of an image on a given axis.\n",
        "\n",
        "    Parameters:\n",
        "        image (numpy.ndarray): The input image.\n",
        "        ax (matplotlib.axes.Axes): The axis to plot the histogram on.\n",
        "        color (str): The color for the histogram plot.\n",
        "    \"\"\"\n",
        "    # Calculate the histogram for each channel\n",
        "    for i, channel in enumerate(['r', 'g', 'b']):\n",
        "        hist = cv2.calcHist([image], [i], None, [256], [0, 256])\n",
        "        ax.plot(hist, color=color[i], label=channel.upper())\n",
        "        \n",
        "    ax.set_xlim([0, 256])\n",
        "    ax.set_title('Histogram')\n",
        "    ax.legend()\n",
        "    ax.grid(True)\n",
        "\n",
        "# Load 3 different images from Google Drive\n",
        "image_paths = [\n",
        "    '/content/drive/MyDrive/image1.jpg',\n",
        "    '/content/drive/MyDrive/image2.jpg',\n",
        "    '/content/drive/MyDrive/image3.jpg'\n",
        "]\n",
        "\n",
        "# Create subplots for the images and their histograms\n",
        "fig, axs = plt.subplots(2, 3, figsize=(15, 8))\n",
        "\n",
        "# Iterate over each image path\n",
        "for i, image_path in enumerate(image_paths):\n",
        "    # Load the original image\n",
        "    img = cv2.imread(image_path)\n",
        "\n",
        "    # Convert image to RGB (OpenCV loads images in BGR format)\n",
        "    img_rgb = cv2.cvtColor(img, cv2.COLOR_BGR2RGB)\n",
        "\n",
        "    # Plot the image\n",
        "    axs[0, i].imshow(img_rgb)\n",
        "    axs[0, i].set_title('Image {}'.format(i+1))\n",
        "    axs[0, i].axis('off')\n",
        "\n",
        "    # Plot the image histogram with each channel's histogram value\n",
        "    plot_image_histogram(img_rgb, axs[1, i], color=['red', 'green', 'blue'])\n",
        "\n",
        "# Adjust layout and display the plot\n",
        "plt.tight_layout()\n",
        "plt.show()\n",
        "\n",
        "```\n",
        "---\n",
        "**Expected Output (You can use different input images):**\n",
        "<center>\n",
        "    <img src=\"https://drive.google.com/uc?id=1W3ZxHBodLI8YbPbUEIcNzuVt-LzIGymz\" alt=\"centered image\" />\n",
        "</center>\n",
        "\n",
        "---\n"
      ],
      "metadata": {
        "id": "DelkekDMGLnk"
      }
    },
    {
      "cell_type": "code",
      "source": [
        "#Type your code here:\n"
      ],
      "metadata": {
        "id": "RuQ31ZaRF8hs"
      },
      "execution_count": null,
      "outputs": []
    },
    {
      "cell_type": "markdown",
      "source": [
        "## Thank you for completing this tutorial!\n",
        "\n",
        "\n",
        "## Author\n",
        "\n",
        "Ginanjar Suwasono Adi\n",
        "\n",
        "## <h3 align=\"center\"> © AIoT Research Group 2024. All rights reserved. <h3/>"
      ],
      "metadata": {
        "id": "jr2o1pSq0FgQ"
      }
    }
  ]
}