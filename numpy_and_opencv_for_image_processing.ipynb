{
  "nbformat": 4,
  "nbformat_minor": 0,
  "metadata": {
    "colab": {
      "provenance": [],
      "toc_visible": true,
      "mount_file_id": "1Q9rP38CIcmk4MnnCgCL1fD0MMlBVIbsG",
      "authorship_tag": "ABX9TyNGm0HJe9b39KuzeYpp+Mre",
      "include_colab_link": true
    },
    "kernelspec": {
      "name": "python3",
      "display_name": "Python 3"
    },
    "language_info": {
      "name": "python"
    }
  },
  "cells": [
    {
      "cell_type": "markdown",
      "metadata": {
        "id": "view-in-github",
        "colab_type": "text"
      },
      "source": [
        "<a href=\"https://colab.research.google.com/github/BabaGin/Image-Processing/blob/main/numpy_and_opencv_for_image_processing.ipynb\" target=\"_parent\"><img src=\"https://colab.research.google.com/assets/colab-badge.svg\" alt=\"Open In Colab\"/></a>"
      ]
    },
    {
      "cell_type": "markdown",
      "source": [
        "# **Tutorial 2 - Numpy and OpenCV for Basic Image Processing**"
      ],
      "metadata": {
        "id": "BR4DtiPn9UH0"
      }
    },
    {
      "cell_type": "markdown",
      "source": [
        "\n",
        "![Mount Drive](https://drive.google.com/uc?id=1yibdRni2VyRt5XOIODRpFURhdVFgYYLB)"
      ],
      "metadata": {
        "id": "EDlZ8SrlI37F"
      }
    },
    {
      "cell_type": "markdown",
      "source": [
        "## **NumPy**\n",
        "\n",
        "**NumPy (Numerical Python)** is an open source Python library that’s used in almost every field of science and engineering. It’s the universal standard for working with numerical data in Python, and it’s at the core of the scientific Python and PyData ecosystems. NumPy users include everyone from beginning coders to experienced researchers doing state-of-the-art scientific and industrial research and development. The NumPy API is used extensively in Pandas, SciPy, Matplotlib, scikit-learn, scikit-image and most other data science and scientific Python packages.\n",
        "\n",
        "The NumPy library contains multidimensional array and matrix data structures (you’ll find more information about this in later sections). It provides ndarray, a homogeneous n-dimensional array object, with methods to efficiently operate on it. NumPy can be used to perform a wide variety of mathematical operations on arrays. It adds powerful data structures to Python that guarantee efficient calculations with arrays and matrices and it supplies an enormous library of high-level mathematical functions that operate on these arrays and matrices."
      ],
      "metadata": {
        "id": "2mizTCbP9D5m"
      }
    },
    {
      "cell_type": "markdown",
      "source": [
        "## NumPy and OpenCV\n",
        "\n",
        "NumPy and OpenCV are two popular libraries in the Python ecosystem, often used together for various image processing and computer vision tasks. Here's how they are related and how they complement each other:\n",
        "\n",
        "1. **NumPy**:\n",
        "   - NumPy is a fundamental package for numerical computing in Python. It provides support for arrays, matrices, and a wide range of mathematical functions to operate on these arrays efficiently.\n",
        "   - NumPy's array data structure is often used to represent images in computer vision applications. Images are typically represented as multi-dimensional arrays where each element corresponds to a pixel value.\n",
        "   - NumPy provides efficient manipulation and computation capabilities on these arrays, making it an ideal choice for handling image data in Python.\n",
        "\n",
        "2. **OpenCV** (Open Source Computer Vision Library):\n",
        "   - OpenCV is a library primarily aimed at real-time computer vision. It provides a wide range of functionalities for image and video analysis, including image processing, object detection, feature extraction, and more.\n",
        "   - While OpenCV has its own data structures for representing images, it seamlessly integrates with NumPy arrays. OpenCV functions can directly operate on NumPy arrays, and vice versa, making it easy to leverage the power of both libraries in a single application.\n",
        "   - OpenCV often uses NumPy arrays as input and output for its image processing functions. This compatibility allows developers to preprocess images using NumPy's array operations and then apply more advanced computer vision algorithms using OpenCV.\n",
        "\n",
        "In summary, NumPy and OpenCV are closely related in the context of image processing and computer vision applications. NumPy provides efficient array manipulation capabilities, while OpenCV offers a vast array of computer vision algorithms. Together, they form a powerful toolset for developing image processing and computer vision applications in Python.\n",
        "\n"
      ],
      "metadata": {
        "id": "Tc40gef_MrLN"
      }
    },
    {
      "cell_type": "markdown",
      "source": [
        "## Motivation\n",
        "\n",
        "In digital image processing, a digital image is typically represented as a two-dimensional array of pixels. Each pixel (short for \"picture element\") corresponds to a single point in the image grid and contains information about the color and/or intensity of that point.\n",
        "\n",
        "<center>\n",
        "    <img src=\"https://drive.google.com/uc?id=1CVJ5Saqiy2dHgj4bdnarTyv1UE9AZndC\" alt=\"centered image\" />\n",
        "</center>\n",
        "<h3 align=\"center\"> Images may be subject to copyright©<h3/>\n",
        "\n",
        "[credit image](https://media.geeksforgeeks.org/wp-content/uploads/Pixel.jpg)\n",
        "\n",
        "Here's a brief overview of how pixels are represented:\n",
        "\n",
        "1. **Spatial Resolution**: The number of pixels in an image determines its spatial resolution. Higher resolutions generally provide more detail but require more storage space and processing power. The resolution is often expressed as width x height, such as 1920x1080 for a Full HD image.\n",
        "\n",
        "2. **Color Representation**: Each pixel can represent color using different color models, such as RGB (Red, Green, Blue), CMYK (Cyan, Magenta, Yellow, Black), HSV (Hue, Saturation, Value), or others. In RGB, for example, each pixel contains three values representing the intensity of red, green, and blue light, respectively. By combining these primary colors at varying intensities, a wide range of colors can be represented.\n",
        "\n",
        "3. **Intensity Representation**: For grayscale images, each pixel typically represents only intensity, ranging from black to white. The intensity value can be stored as a single number, often ranging from 0 (black) to 255 (white) in an 8-bit grayscale image.\n",
        "\n",
        "<center>\n",
        "    <img src=\"https://drive.google.com/uc?id=1CvxvSCl-END--1EigyrObTMB48Q18oFl\" alt=\"centered image\" />\n",
        "</center>\n",
        "<h3 align=\"center\"> Images may be subject to copyright©<h3/>\n",
        "\n",
        "[credit image](https://www.google.com/imgres?imgurl=http%3A%2F%2Fhosting.soonet.ca%2Feliris%2Fremotesensing%2FLectureImages%2Fpixel.gif&tbnid=R_FpQ8bDJZjM6M&vet=12ahUKEwids6Lj0uGEAxWL8DgGHUzsAx8QMygRegQIARBw..i&imgrefurl=https%3A%2F%2Fai.stanford.edu%2F~syyeung%2Fcvweb%2Ftutorial1.html&docid=j0mSMa_rfDzPrM&w=334&h=251&q=greyscale%20image%20values&ved=2ahUKEwids6Lj0uGEAxWL8DgGHUzsAx8QMygRegQIARBw)\n",
        "\n",
        "\n",
        "4. **Bit Depth**: Bit depth refers to the number of bits used to represent each pixel. Higher bit depths allow for more colors or shades of gray to be represented, resulting in higher image quality but requiring more storage space. Common bit depths include 8-bit, 16-bit, and 24-bit.\n",
        "\n",
        "\n",
        "In summary, pixels serve as the building blocks of digital images, with each pixel containing information about color, intensity, or both, depending on the image type. Understanding pixel representation is fundamental in various image processing tasks, including image enhancement, compression, segmentation, and analysis."
      ],
      "metadata": {
        "id": "lVNi-yhZabv2"
      }
    },
    {
      "cell_type": "markdown",
      "source": [
        "## Basic Numpy with Python\n",
        "NumPy provides a powerful and efficient way to work with numerical data in Python. These basics should give you a solid foundation to start working with NumPy arrays and perform various numerical computations efficiently.\n",
        "\n",
        "\n",
        "### 1. Importing NumPy\n",
        "After installation, you can import NumPy in your Python script or interactive session:\n",
        "\n",
        "```python\n",
        "import numpy as np\n",
        "```\n",
        "\n",
        "### 2. Creating NumPy Arrays\n",
        "NumPy arrays are the core data structure in NumPy. You can create arrays in various ways:\n",
        "\n",
        "- From a Python list:\n",
        "  ```python\n",
        "  arr = np.array([1, 2, 3, 4, 5])\n",
        "  ```\n",
        "\n",
        "- Using NumPy's built-in functions:\n",
        "  ```python\n",
        "  zeros_arr = np.zeros((3, 3))  # Creates a 3x3 array filled with zeros\n",
        "  ones_arr = np.ones((2, 4))     # Creates a 2x4 array filled with ones\n",
        "  random_arr = np.random.rand(2, 2)  # Creates a 2x2 array with random values\n",
        "  ```\n",
        "\n",
        "### 3. Array Attributes\n",
        "NumPy arrays have several attributes that you can access:\n",
        "\n",
        "- `shape`: Returns the dimensions of the array.\n",
        "- `dtype`: Returns the data type of the array elements.\n",
        "- `size`: Returns the total number of elements in the array.\n",
        "\n",
        "```python\n",
        "arr = np.array([[1, 2, 3], [4, 5, 6]])\n",
        "print(arr.shape)  # Output: (2, 3)\n",
        "print(arr.dtype)  # Output: int64\n",
        "print(arr.size)   # Output: 6\n",
        "```\n",
        "\n",
        "### 4. Array Operations\n",
        "NumPy provides a wide range of mathematical operations on arrays, including element-wise operations, linear algebra, and statistical functions:\n",
        "\n",
        "- Element-wise operations:\n",
        "  ```python\n",
        "  a = np.array([1, 2, 3])\n",
        "  b = np.array([4, 5, 6])\n",
        "  print(a + b)   # Element-wise addition\n",
        "  print(a * b)   # Element-wise multiplication\n",
        "  ```\n",
        "\n",
        "- Linear algebra operations:\n",
        "  ```python\n",
        "  mat_a = np.array([[1, 2], [3, 4]])\n",
        "  mat_b = np.array([[5, 6], [7, 8]])\n",
        "  print(np.dot(mat_a, mat_b))  # Matrix multiplication\n",
        "  ```\n",
        "\n",
        "- Statistical functions:\n",
        "  ```python\n",
        "  data = np.array([[1, 2, 3], [4, 5, 6]])\n",
        "  print(np.mean(data))   # Mean of all elements\n",
        "  print(np.std(data))    # Standard deviation\n",
        "  print(np.max(data))    # Maximum value\n",
        "  ```\n",
        "\n",
        "### 5. Indexing and Slicing\n",
        "You can access elements, rows, columns, or subarrays of NumPy arrays using indexing and slicing:\n",
        "\n",
        "```python\n",
        "arr = np.array([[1, 2, 3], [4, 5, 6]])\n",
        "print(arr[0, 1])      # Accessing element at row 0, column 1\n",
        "print(arr[:, 1])      # Accessing all elements from column 1\n",
        "print(arr[1, :2])     # Accessing first two elements of row 1\n",
        "print(arr[:, ::-1])   # Reversing the order of columns\n",
        "```\n"
      ],
      "metadata": {
        "id": "t8mi-OLqbsHe"
      }
    },
    {
      "cell_type": "markdown",
      "source": [
        "### Creating NumPy Array\n",
        "Creating NumPy arrays can be done in several ways depending on your requirements. Here are some common methods:\n",
        "\n",
        "### 1. Creating Arrays from Python Lists\n",
        "You can create NumPy arrays from Python lists using the `np.array()` function:\n",
        "\n",
        "```python\n",
        "import numpy as np\n",
        "\n",
        "# 1D array\n",
        "arr_1d = np.array([1, 2, 3, 4, 5])\n",
        "\n",
        "# 2D array (nested lists)\n",
        "arr_2d = np.array([[1, 2, 3], [4, 5, 6]])\n",
        "\n",
        "# 3D array (nested lists)\n",
        "arr_3d = np.array([[[1, 2], [3, 4]], [[5, 6], [7, 8]]])\n",
        "```\n",
        "\n",
        "### 2. Creating Arrays with Initial Values\n",
        "You can create arrays with specific initial values using functions like `np.zeros()`, `np.ones()`, or `np.full()`:\n",
        "\n",
        "```python\n",
        "# Array filled with zeros\n",
        "zeros_arr = np.zeros((2, 3))  # 2x3 array\n",
        "\n",
        "# Array filled with ones\n",
        "ones_arr = np.ones((3, 2))    # 3x2 array\n",
        "\n",
        "# Array filled with a specific value\n",
        "value_arr = np.full((2, 2), 7)  # 2x2 array with value 7\n",
        "```\n",
        "\n",
        "### 3. Creating Arrays with a Range of Values\n",
        "You can create arrays with a range of values using `np.arange()` or `np.linspace()`:\n",
        "\n",
        "```python\n",
        "# Array with a range of values\n",
        "range_arr = np.arange(0, 10, 2)  # Array from 0 to 10 (exclusive), step 2\n",
        "\n",
        "# Array with evenly spaced values\n",
        "linspace_arr = np.linspace(0, 1, 5)  # Array of 5 evenly spaced values between 0 and 1\n",
        "```\n",
        "\n",
        "### 4. Creating Random Arrays\n",
        "You can create arrays with random values using functions from the `np.random` module:\n",
        "\n",
        "```python\n",
        "# Random array with uniform distribution\n",
        "uniform_arr = np.random.rand(2, 3)  # 2x3 array with values between 0 and 1\n",
        "\n",
        "# Random array with normal distribution\n",
        "normal_arr = np.random.randn(3, 3)  # 3x3 array with values from a standard normal distribution\n",
        "\n",
        "# Random array with integer value\n",
        "int_arr = np.random.randnint(0,11, size=(3, 3))  # 3x3 array with values between 0 and 10\n",
        "```"
      ],
      "metadata": {
        "id": "U_ufAvlJg4HX"
      }
    },
    {
      "cell_type": "markdown",
      "source": [
        "### Exercise 1\n",
        "Now build a 10x10 array with values integer between 0 and 99"
      ],
      "metadata": {
        "id": "fekEtNTt3XCs"
      }
    },
    {
      "cell_type": "code",
      "source": [
        "#Type your code here:\n"
      ],
      "metadata": {
        "id": "8jYsUS1miXtL"
      },
      "execution_count": null,
      "outputs": []
    },
    {
      "cell_type": "markdown",
      "source": [
        "<details><summary>Click here for the solution</summary>\n",
        "\n",
        "```python    \n",
        "import numpy as np\n",
        "int_arr = np.random.randint(0,100, size=(10, 10))\n",
        "print(int_arr)\n",
        "```\n",
        "\n",
        "</details>\n"
      ],
      "metadata": {
        "id": "JHS19ICsv9sv"
      }
    },
    {
      "cell_type": "markdown",
      "source": [
        "## Bitwise Opertions\n",
        "Bitwise operations play a crucial role in image masking, a technique used in image processing to selectively apply effects or manipulate certain areas of an image. Here's how bitwise operations are typically used for image masking:\n",
        "\n",
        "1. **AND Operation**: This operation is commonly used to create a mask by combining two binary images. In image masking, one binary image (often called the mask) specifies which pixels to keep, and the other image is typically the original image. By performing a bitwise AND operation between the mask and the original image, you retain only those pixels where the mask has a value of 1 (white), effectively masking out the unwanted regions.\n",
        "\n",
        "2. **OR Operation**: The OR operation can also be useful in masking. By performing a bitwise OR operation between two binary images, you can combine them to create a new mask that includes pixels from either or both of the original masks. This can be helpful for combining multiple masks or adding certain areas to a mask.\n",
        "\n",
        "3. **NOT Operation**: In some cases, you may need to invert a mask, i.e., convert areas that are 0 to 1 and vice versa. The NOT operation, also known as bitwise negation, accomplishes this. It flips the bits of a binary image, converting 0s to 1s and 1s to 0s.\n",
        "\n",
        "4. **Masking with different shapes**: Bitwise operations allow you to create masks of various shapes and sizes, such as rectangles, circles, polygons, etc., by drawing them onto a binary image and then combining them using bitwise operations.\n",
        "\n",
        "By using these bitwise operations in combination with binary masks, you can effectively isolate regions of interest in an image, apply specific effects, or perform targeted manipulations while leaving other areas unaffected. This is particularly useful in tasks such as image segmentation, object detection, and image editing.\n",
        "\n",
        "**Analize the following code**"
      ],
      "metadata": {
        "id": "0l9aAORAeq-y"
      }
    },
    {
      "cell_type": "code",
      "source": [
        "import numpy as np\n",
        "import matplotlib.pyplot as plt\n",
        "import cv2\n",
        "\n",
        "# Create a blank image\n",
        "image_height, image_width = 300, 300\n",
        "image = np.zeros((image_height, image_width), dtype=np.uint8)\n",
        "\n",
        "# Define the coordinates of the square (top-left and bottom-right)\n",
        "top_left = (50, 50)\n",
        "bottom_right = (250, 250)\n",
        "\n",
        "# Create a square mask\n",
        "square_mask = np.zeros_like(image)\n",
        "square_mask[top_left[1]:bottom_right[1], top_left[0]:bottom_right[0]] = 255\n",
        "\n",
        "# Apply the square mask to the image using bitwise AND\n",
        "masked_image = cv2.bitwise_or(image, square_mask)\n",
        "\n",
        "# Display the original image and the masked image\n",
        "plt.figure(figsize=(10, 5))\n",
        "\n",
        "plt.subplot(1, 2, 1)\n",
        "plt.imshow(image, cmap='gray')\n",
        "plt.title('Original Image')\n",
        "plt.axis('off')\n",
        "\n",
        "plt.subplot(1, 2, 2)\n",
        "plt.imshow(masked_image, cmap='gray')\n",
        "plt.title('Masked Image')\n",
        "plt.axis('off')\n",
        "\n",
        "plt.show()\n"
      ],
      "metadata": {
        "id": "V0VVLl5nTdXl"
      },
      "execution_count": null,
      "outputs": []
    },
    {
      "cell_type": "code",
      "source": [
        "import cv2\n",
        "import numpy as np\n",
        "import matplotlib.pyplot as plt\n",
        "\n",
        "# Create a black canvas\n",
        "canvas = np.zeros((512, 512), dtype=np.uint8)\n",
        "\n",
        "# Define vertices for the triangle\n",
        "triangle_pts = np.array([[250, 100], [100, 400], [400, 400]], np.int32)\n",
        "\n",
        "# Create a mask for the triangle\n",
        "triangle_mask = np.zeros_like(canvas)\n",
        "cv2.fillPoly(triangle_mask, [triangle_pts], 255)\n",
        "\n",
        "# Draw the triangle on the canvas\n",
        "cv2.polylines(canvas, [triangle_pts], isClosed=True, color=(255, 255, 255), thickness=2)\n",
        "\n",
        "# Create a circle\n",
        "circle_mask = np.zeros_like(canvas)\n",
        "cv2.circle(circle_mask, (250, 250), 150, 255, -1)\n",
        "\n",
        "# Perform bitwise AND operation between the triangle and circle masks\n",
        "result = cv2.bitwise_and(triangle_mask, circle_mask)\n",
        "\n",
        "# Plot the result using Matplotlib\n",
        "\n",
        "plt.subplot(1, 3, 1)\n",
        "plt.imshow(circle_mask, cmap='gray')\n",
        "plt.title('Circle')\n",
        "plt.axis('off')\n",
        "\n",
        "plt.subplot(1, 3, 2)\n",
        "plt.imshow(triangle_mask, cmap='gray')\n",
        "plt.title('Triangle')\n",
        "plt.axis('off')\n",
        "\n",
        "plt.subplot(1, 3, 3)\n",
        "plt.imshow(result, cmap='gray')\n",
        "plt.title('AND')\n",
        "plt.axis('off')\n",
        "\n",
        "plt.show()\n"
      ],
      "metadata": {
        "id": "Ku0An70ecVKW"
      },
      "execution_count": null,
      "outputs": []
    },
    {
      "cell_type": "markdown",
      "source": [
        "### Exercise 2\n",
        " Make a bitwise XOR operation between a triangle and a circle using NumPy, Python, OpenCV, and plot the result using Matplotlib"
      ],
      "metadata": {
        "id": "BJuWOwL6fPGV"
      }
    },
    {
      "cell_type": "code",
      "source": [
        "#Type your code here:\n"
      ],
      "metadata": {
        "id": "KZ4ayJt3fOkm"
      },
      "execution_count": null,
      "outputs": []
    },
    {
      "cell_type": "markdown",
      "source": [
        "<details><summary>Click here for the solution</summary>\n",
        "\n",
        "```python    \n",
        "import cv2\n",
        "import numpy as np\n",
        "import matplotlib.pyplot as plt\n",
        "\n",
        "# Create a black canvas\n",
        "canvas = np.zeros((512, 512), dtype=np.uint8)\n",
        "\n",
        "# Define vertices for the triangle\n",
        "triangle_pts = np.array([[250, 100], [100, 400], [400, 400]], np.int32)\n",
        "\n",
        "# Create a mask for the triangle\n",
        "triangle_mask = np.zeros_like(canvas)\n",
        "cv2.fillPoly(triangle_mask, [triangle_pts], 255)\n",
        "\n",
        "# Draw the triangle on the canvas\n",
        "cv2.polylines(canvas, [triangle_pts], isClosed=True, color=(255, 255, 255), thickness=2)\n",
        "\n",
        "# Create a circle\n",
        "circle_mask = np.zeros_like(canvas)\n",
        "cv2.circle(circle_mask, (250, 250), 150, 255, -1)\n",
        "\n",
        "# Perform bitwise XOR operation between the triangle and circle masks\n",
        "result = cv2.bitwise_xor(triangle_mask, circle_mask)\n",
        "\n",
        "# Plot the result using Matplotlib\n",
        "plt.figure(figsize=(6, 6))\n",
        "plt.imshow(result, cmap='gray')\n",
        "plt.title('Bitwise XOR of Triangle and Circle')\n",
        "plt.axis('off')\n",
        "plt.show()\n",
        "\n",
        "```\n",
        "\n",
        "</details>\n"
      ],
      "metadata": {
        "id": "c-rvM0kWgEhw"
      }
    },
    {
      "cell_type": "markdown",
      "source": [
        "### Exercise 3\n",
        " Make a bitwise OR operation between a square and a circle using NumPy, Python, OpenCV, and plot the result using Matplotlib"
      ],
      "metadata": {
        "id": "31nNpyOQkGfr"
      }
    },
    {
      "cell_type": "code",
      "source": [
        "#Type your code here:\n"
      ],
      "metadata": {
        "id": "ja1oSdAtkdKv"
      },
      "execution_count": null,
      "outputs": []
    },
    {
      "cell_type": "markdown",
      "source": [
        "### Exercise 4\n",
        "Download image files\n",
        "\n",
        "Make a directory namely \"coba\" on your Gdrive and download the following file into your new directory. You can always navigate your current working directory using the following command in your cell:\n",
        "```python\n",
        "!pwd\n",
        "```\n",
        "\n",
        "1. **List Contents of Current Directory (`ls`):**\n",
        "```python\n",
        "!ls\n",
        "```\n",
        "This command lists the contents of the current directory.\n",
        "\n",
        "2. **Change Directory (`cd`):**\n",
        "```python\n",
        "%cd directory_path\n",
        "```\n",
        "This command changes the current directory to the specified directory path.\n",
        "\n",
        "3. **Make Directory (`mkdir`):**\n",
        "```python\n",
        "!mkdir directory_name\n",
        "```\n"
      ],
      "metadata": {
        "id": "bfzO0X9hDzmv"
      }
    },
    {
      "cell_type": "code",
      "source": [
        "####### The Excercise ########\n",
        "#Check your current directory\n",
        "#Navigate your curent working directory to the directory that you just made\n",
        "#create your code and add new cells if needed\n",
        "#Type your code here:\n",
        "%cd /content/drive/MyDrive/coba"
      ],
      "metadata": {
        "id": "GguMyNd2K475"
      },
      "execution_count": null,
      "outputs": []
    },
    {
      "cell_type": "code",
      "source": [
        "!ls"
      ],
      "metadata": {
        "id": "lMqlXmWsUWEh"
      },
      "execution_count": null,
      "outputs": []
    },
    {
      "cell_type": "markdown",
      "source": [
        "You can use the following code to download zip file into your Gdrive\n",
        "\n",
        "```python\n",
        "!pip install wget\n",
        "\n",
        "import wget\n",
        "\n",
        "# Replace 'path_to_output_folder/your_file.zip' with the desired path where you want to save the zip file in your Google Drive\n",
        "output_file = '/content/drive/MyDrive/coba/samples.zip'\n",
        "\n",
        "# Construct the direct download link\n",
        "download_link = f'https://drive.google.com/uc?id=111gn_JYmR1Uox3zjEL9GA6ApSvnHnhsn'\n",
        "\n",
        "# Download the file using wget\n",
        "wget.download(download_link, out=output_file)\n",
        "```\n",
        "or\n",
        "\n",
        "```python\n",
        "!wget -O /content/drive/MyDrive/sample_images.zip \"https://drive.google.com/uc?id=111gn_JYmR1Uox3zjEL9GA6ApSvnHnhsn\"\n",
        "```"
      ],
      "metadata": {
        "id": "qYBhs-_XIwiI"
      }
    },
    {
      "cell_type": "code",
      "source": [
        "!wget -O /content/drive/MyDrive/sample_images.zip \"https://drive.google.com/uc?id=111gn_JYmR1Uox3zjEL9GA6ApSvnHnhsn\""
      ],
      "metadata": {
        "id": "jw1Ln28v_yNi"
      },
      "execution_count": null,
      "outputs": []
    },
    {
      "cell_type": "markdown",
      "source": [
        "### Unzip your file to desired directory"
      ],
      "metadata": {
        "id": "psHUBfwwiPqr"
      }
    },
    {
      "cell_type": "code",
      "source": [
        "# Replace 'your_zip_file.zip' with the path to your zip file in your Google Drive\n",
        "zip_file_path = '/content/drive/MyDrive/sample_images.zip'\n",
        "\n",
        "# Replace 'path_to_output_folder/' with the desired path where you want to unzip the files in your Google Drive\n",
        "output_folder = '/content/drive/My Drive/coba/'\n",
        "\n",
        "# Unzip the file\n",
        "!unzip -q \"$zip_file_path\" -d \"$output_folder\""
      ],
      "metadata": {
        "id": "R3NmHsH6AknS"
      },
      "execution_count": null,
      "outputs": []
    },
    {
      "cell_type": "markdown",
      "source": [
        "##Image Translation\n",
        "\n",
        "To perform image translation using OpenCV in Python, you can use the cv2.warpAffine() function. Image translation involves shifting the image in both the x and y directions. The translation matrix used for this purpose is a 2x3 matrix, where the first two elements of the third column represent the translation in the x and y directions, respectively.\n",
        "\n",
        "Here's the formula for the translation matrix:\n",
        "```python\n",
        "[1 0 tx]\n",
        "[0 1 ty]\n",
        "```\n",
        "\n",
        "Where tx is the translation in the x-direction and ty is the translation in the y-direction.\n",
        "\n"
      ],
      "metadata": {
        "id": "Mkbtl_81BAnP"
      }
    },
    {
      "cell_type": "code",
      "source": [
        "import cv2\n",
        "import numpy as np\n",
        "import matplotlib.pyplot as plt\n",
        "\n",
        "# Load the image\n",
        "image = cv2.imread('/content/drive/MyDrive/coba/images/deer.jpg')\n",
        "\n",
        "# Define translation matrix\n",
        "tx = 150  # Translation in x-direction\n",
        "ty = 100  # Translation in y-direction\n",
        "translation_matrix = np.float32([[1, 0, tx], [0, 1, ty]])\n",
        "\n",
        "# Apply translation\n",
        "translated_image = cv2.warpAffine(image, translation_matrix, (image.shape[1], image.shape[0]))\n",
        "\n",
        "# Display original and translated images using matplotlib\n",
        "plt.figure(figsize=(10, 5))\n",
        "\n",
        "plt.subplot(1, 2, 1)\n",
        "plt.title('Original Image')\n",
        "plt.imshow(cv2.cvtColor(image, cv2.COLOR_BGR2RGB))\n",
        "plt.axis('off')\n",
        "\n",
        "plt.subplot(1, 2, 2)\n",
        "plt.title('Translated Image')\n",
        "plt.imshow(cv2.cvtColor(translated_image, cv2.COLOR_BGR2RGB))\n",
        "plt.axis('off')\n",
        "\n",
        "plt.show()\n"
      ],
      "metadata": {
        "id": "xWuRSXKmA-u9"
      },
      "execution_count": null,
      "outputs": []
    },
    {
      "cell_type": "markdown",
      "source": [
        "## Brightening and Darkening\n",
        "\n",
        "To brighten an image, you can simply add a constant value to each pixel in the image. This will increase the intensity of all the pixels, making the image brighter."
      ],
      "metadata": {
        "id": "DelkekDMGLnk"
      }
    },
    {
      "cell_type": "code",
      "source": [
        "#image = cv2.imread('image.jpg')\n",
        "value =100\n",
        "mat = np.ones(image.shape,dtype = 'uint8')*value\n",
        "brighter = cv2.add(image,mat)\n",
        "\n",
        "plt.figure(figsize=(10, 5))\n",
        "\n",
        "plt.subplot(1, 2, 1)\n",
        "plt.title('Original Image')\n",
        "plt.imshow(cv2.cvtColor(image, cv2.COLOR_BGR2RGB))\n",
        "plt.axis('off')\n",
        "\n",
        "plt.subplot(1, 2, 2)\n",
        "plt.title('Bright Image')\n",
        "plt.imshow(cv2.cvtColor(brighter, cv2.COLOR_BGR2RGB))\n",
        "plt.axis('off')\n",
        "\n",
        "plt.show()\n"
      ],
      "metadata": {
        "id": "RuQ31ZaRF8hs"
      },
      "execution_count": null,
      "outputs": []
    },
    {
      "cell_type": "markdown",
      "source": [
        "To darken an image, you can subtract a constant value from each pixel in the image. This will decrease the intensity of all the pixels, making the image darker."
      ],
      "metadata": {
        "id": "haaCa1aqJ3FV"
      }
    },
    {
      "cell_type": "code",
      "source": [
        "#image = cv2.imread('image.jpg')\n",
        "value =100\n",
        "mat = np.ones(image.shape,dtype = 'uint8')*value\n",
        "darken = cv2.subtract(image,mat)\n",
        "\n",
        "plt.figure(figsize=(10, 5))\n",
        "\n",
        "plt.subplot(1, 2, 1)\n",
        "plt.title('Original Image')\n",
        "plt.imshow(cv2.cvtColor(image, cv2.COLOR_BGR2RGB))\n",
        "plt.axis('off')\n",
        "\n",
        "plt.subplot(1, 2, 2)\n",
        "plt.title('Dark Image')\n",
        "plt.imshow(cv2.cvtColor(darken, cv2.COLOR_BGR2RGB))\n",
        "plt.axis('off')\n",
        "\n",
        "plt.show()\n"
      ],
      "metadata": {
        "id": "duHu7fwaGoaJ"
      },
      "execution_count": null,
      "outputs": []
    },
    {
      "cell_type": "markdown",
      "source": [
        "### Exercise 5\n",
        "\n",
        "Load the **'landscape1.jpg'** image from the **coba** directory, then manipulate that image to become brighter and darker."
      ],
      "metadata": {
        "id": "3IenUN86KZHL"
      }
    },
    {
      "cell_type": "code",
      "source": [
        "#Type your code here"
      ],
      "metadata": {
        "id": "4znSfzxuLRe0"
      },
      "execution_count": null,
      "outputs": []
    },
    {
      "cell_type": "markdown",
      "source": [
        "##Adding 2 images\n",
        "\n",
        "You can add two images together using OpenCV and then display the result using Matplotlib. Here's how you can do it:\n",
        "\n",
        "```python\n",
        "import cv2\n",
        "import matplotlib.pyplot as plt\n",
        "\n",
        "# Load the two images\n",
        "image1 = cv2.imread('image1.jpg')\n",
        "image2 = cv2.imread('image2.jpg')\n",
        "\n",
        "# Resize image2 to match the dimensions of image1 (optional)\n",
        "image2 = cv2.resize(image2, (image1.shape[1], image1.shape[0]))\n",
        "\n",
        "# Add the two images\n",
        "added_image = cv2.addWeighted(image1, 0.5, image2, 0.5, 0)\n",
        "\n",
        "# Display the result using Matplotlib\n",
        "plt.imshow(cv2.cvtColor(added_image, cv2.COLOR_BGR2RGB))\n",
        "plt.axis('off')\n",
        "plt.show()\n",
        "```\n",
        "\n",
        "In this code:\n",
        "- `cv2.addWeighted()` is used to add the two images together. The function takes the two input images, their respective weights, and an optional scalar value.\n",
        "- `plt.imshow()` is used to display the resulting image using Matplotlib. Before displaying, we convert the image from BGR (OpenCV format) to RGB (Matplotlib format) using `cv2.cvtColor()`.\n",
        "\n",
        "Make sure to replace `'image1.jpg'` and `'image2.jpg'` with the paths to your two images. Adjust the weights in `cv2.addWeighted()` to control the blending effect between the two images."
      ],
      "metadata": {
        "id": "OUz1VrdrCDYy"
      }
    },
    {
      "cell_type": "markdown",
      "source": [
        "### Exercise 6\n",
        "\n",
        "Load 2 images, **'landscape1.jpg'** and **'psychedelic.jpg'**, from the **coba** directory. Then blend those images into 1 new image using the `cv2.addWeighted()` function. Plot 3 images in one figure with labels 'image1', 'image2', and 'added_image', respectively"
      ],
      "metadata": {
        "id": "l90_aAmgLj8V"
      }
    },
    {
      "cell_type": "code",
      "source": [
        "#type your code here"
      ],
      "metadata": {
        "id": "KbHqYFDuHpuH"
      },
      "execution_count": null,
      "outputs": []
    },
    {
      "cell_type": "markdown",
      "source": [
        "<details><summary>Click here for the solution</summary>\n",
        "\n",
        "```python    \n",
        "import cv2\n",
        "import matplotlib.pyplot as plt\n",
        "\n",
        "# Load the two images\n",
        "image1 = cv2.imread('/content/drive/MyDrive/coba/images/lanscape1.jpg')\n",
        "image2 = cv2.imread('/content/drive/MyDrive/coba/images/psychedelic.jpg')\n",
        "\n",
        "# Resize image2 to match the dimensions of image1 (optional)\n",
        "image2 = cv2.resize(image2, (image1.shape[1], image1.shape[0]))\n",
        "\n",
        "# Add the two images\n",
        "added_image = cv2.addWeighted(image1, 0.7, image2, 0.3, 0)\n",
        "\n",
        "# Display the result using Matplotlib\n",
        "plt.figure(figsize=(15, 10))\n",
        "\n",
        "plt.subplot(1, 3, 1)\n",
        "plt.title('Original Image')\n",
        "plt.imshow(cv2.cvtColor(image1, cv2.COLOR_BGR2RGB))\n",
        "plt.axis('off')\n",
        "\n",
        "plt.subplot(1, 3, 2)\n",
        "plt.title('Original Image')\n",
        "plt.imshow(cv2.cvtColor(image2, cv2.COLOR_BGR2RGB))\n",
        "plt.axis('off')\n",
        "\n",
        "plt.subplot(1, 3, 3)\n",
        "plt.imshow(cv2.cvtColor(added_image, cv2.COLOR_BGR2RGB))\n",
        "plt.axis('off')\n",
        "plt.show()\n",
        "\n",
        "plt.show()\n",
        "\n",
        "```\n",
        "\n",
        "</details>\n"
      ],
      "metadata": {
        "id": "KVNyQOwXLb7X"
      }
    },
    {
      "cell_type": "markdown",
      "source": [
        "## Resize Image\n",
        "\n",
        "Resizing an image in OpenCV involves changing its dimensions. It can be done to either increase or decrease the size of the image. Resizing is a common operation in image processing tasks like object detection, recognition, and computer vision applications.\n",
        "\n",
        "Here's an explanation of how resizing works in OpenCV:\n",
        "\n",
        "1. **Input Parameters**: The `cv2.resize()` function in OpenCV takes three main parameters:\n",
        "   - `src`: The input image.\n",
        "   - `dsize`: The desired size of the output image. It can be specified either as a tuple `(width, height)` or as an integer (for square images).\n",
        "   - `fx` and `fy`: Scaling factors along the horizontal and vertical axes, respectively. If `dsize` is not specified, these factors are used to determine the size of the output image.\n",
        "\n",
        "2. **Interpolation Methods**: OpenCV provides several interpolation methods for resizing images. These methods are used to estimate pixel values in the output image when the input image is resized. Some commonly used interpolation methods include:\n",
        "   - `cv2.INTER_LINEAR`: Bilinear interpolation (default). Suitable for most cases.\n",
        "   - `cv2.INTER_NEAREST`: Nearest-neighbor interpolation. Fastest but can produce aliasing artifacts.\n",
        "   - `cv2.INTER_CUBIC`: Bicubic interpolation. Produces smoother results compared to bilinear interpolation but slower.\n",
        "   - `cv2.INTER_AREA`: Resampling using pixel area relation. Suitable for downscaling images.\n",
        "\n",
        "3. **Aspect Ratio**: When resizing an image, it's important to maintain the aspect ratio to avoid distortion. The aspect ratio is the ratio of the width to the height of the image. If you specify only one dimension (width or height) in `dsize`, OpenCV automatically calculates the other dimension to preserve the aspect ratio.\n",
        "\n",
        "4. **Image Quality**: Resizing an image can affect its quality. Enlarging an image may lead to loss of sharpness and detail, while shrinking an image may result in loss of information. The choice of interpolation method and scaling factors can impact the visual quality of the resized image.\n",
        "\n",
        "5. **Performance Considerations**: Resizing large images or resizing multiple images frequently can be computationally expensive. It's important to choose appropriate interpolation methods and scaling factors to achieve the desired result efficiently.\n",
        "\n",
        "Here's an example of how to resize an image in OpenCV:\n",
        "\n",
        "```python\n",
        "import cv2\n",
        "\n",
        "# Load the image\n",
        "image = cv2.imread('input_image.jpg')\n",
        "\n",
        "# Resize the image to a specific width and height\n",
        "resized_image = cv2.resize(image, (new_width, new_height), interpolation=cv2.INTER_LINEAR)\n",
        "\n",
        "```\n",
        "\n",
        "In this example, replace `'input_image.jpg'` with the path to your input image, and specify the desired `new_width` and `new_height` for resizing. You can adjust the interpolation method (`cv2.INTER_LINEAR` in this case) based on your requirements."
      ],
      "metadata": {
        "id": "9Av9SvZzJp-L"
      }
    },
    {
      "cell_type": "markdown",
      "source": [
        "### Exercise 7\n",
        "\n",
        "Load **'grand_canyon.jpg'** image from **coba** directory then resize into 300x200 px"
      ],
      "metadata": {
        "id": "Nw7-eozkNux6"
      }
    },
    {
      "cell_type": "code",
      "source": [
        "#Type your code here"
      ],
      "metadata": {
        "id": "XrfyELRnJwG-"
      },
      "execution_count": null,
      "outputs": []
    },
    {
      "cell_type": "markdown",
      "source": [
        "<details><summary>Click here for the solution</summary>\n",
        "\n",
        "```python    \n",
        "import cv2\n",
        "import matplotlib.pyplot as plt\n",
        "\n",
        "# Load the image\n",
        "image = cv2.imread('/content/drive/MyDrive/coba/images/gran_canyon.jpg')\n",
        "\n",
        "# Define the new width and height\n",
        "new_width = 300\n",
        "new_height = 200\n",
        "\n",
        "# Resize the image\n",
        "resized_image = cv2.resize(image, (new_width, new_height))\n",
        "\n",
        "# Display the resized image using Matplotlib\n",
        "plt.figure(figsize=(10, 5))\n",
        "\n",
        "plt.subplot(1, 2, 1)\n",
        "plt.title('Original Image')\n",
        "plt.imshow(cv2.cvtColor(image, cv2.COLOR_BGR2RGB))\n",
        "plt.axis('off')\n",
        "\n",
        "plt.subplot(1, 2, 2)\n",
        "plt.title('Resized Image')\n",
        "plt.imshow(cv2.cvtColor(resized_image, cv2.COLOR_BGR2RGB))\n",
        "plt.axis('off')\n",
        "\n",
        "plt.show()\n",
        "\n",
        "```\n",
        "\n",
        "</details>\n"
      ],
      "metadata": {
        "id": "8y1KeHBYNj_V"
      }
    },
    {
      "cell_type": "markdown",
      "source": [
        "##Image dimension\n",
        "\n",
        "You can also use NumPy to get the shape of an image in OpenCV. After loading the image using OpenCV, you can convert it to a NumPy array and then use the `.shape` attribute of the array. Here's how you can do it:\n",
        "\n",
        "```python\n",
        "import cv2\n",
        "import numpy as np\n",
        "\n",
        "# Load the image\n",
        "image = cv2.imread('input_image.jpg')\n",
        "\n",
        "# Convert the image to a NumPy array\n",
        "image_np = np.array(image)\n",
        "\n",
        "# Get the shape of the image\n",
        "height, width, channels = image_np.shape\n",
        "\n",
        "print(\"Image Shape:\")\n",
        "print(\"Height:\", height)\n",
        "print(\"Width:\", width)\n",
        "print(\"Channels:\", channels)\n",
        "```\n",
        "\n",
        "Replace `'input_image.jpg'` with the path to your input image. After running this code, it will print out the height, width, and number of channels (3 for color images and 1 for grayscale images) of the loaded image.\n",
        "\n",
        "Converting the image to a NumPy array (`image_np = np.array(image)`) is optional but it allows you to directly use NumPy's `.shape` attribute to get the dimensions of the image."
      ],
      "metadata": {
        "id": "4v6EItPMKjy3"
      }
    },
    {
      "cell_type": "code",
      "source": [
        "#uncomment the following code if cv2 and numpy haven't installed\n",
        "#import cv2\n",
        "#import numpy as np\n",
        "\n",
        "# Convert the image to a NumPy array\n",
        "image_ori = np.array(image)\n",
        "image_re = np.array(resized_image)\n",
        "\n",
        "# Get the shape of the image\n",
        "height1, width1, channels1 = image_ori.shape\n",
        "height2, width2, channels2 = image_re.shape\n",
        "\n",
        "print(\"Original Image Shape of:\")\n",
        "print(\"Height:\", height1)\n",
        "print(\"Width:\", width1)\n",
        "print(\"Channels:\", channels1)\n",
        "print(\"\\n\") #giving a new line\n",
        "print(\"Resized Image Shape:\")\n",
        "print(\"Height:\", height2)\n",
        "print(\"Width:\", width2)\n",
        "print(\"Channels:\", channels2)"
      ],
      "metadata": {
        "id": "5B_41uveKp5y"
      },
      "execution_count": null,
      "outputs": []
    },
    {
      "cell_type": "markdown",
      "source": [
        "### Exercise 8\n",
        "\n",
        "Upload your own image into **coba** directory; find its dimension. Then add that image with 'psychedelic.jpg'\n",
        "\n",
        "**If there is an error check your new uploaded image and resize to the same dimension of psychedelic.jpg**"
      ],
      "metadata": {
        "id": "npQeZz79ObOH"
      }
    },
    {
      "cell_type": "code",
      "source": [
        "#Type your code here"
      ],
      "metadata": {
        "id": "KC_pPvj3PISl"
      },
      "execution_count": null,
      "outputs": []
    },
    {
      "cell_type": "markdown",
      "source": [
        "##Image rotation\n",
        "\n",
        "You can rotate an image using the `cv2.rotate()` function in OpenCV. This function allows you to rotate an image by a specified angle. Here's how you can do it:\n",
        "\n",
        "```python\n",
        "import cv2\n",
        "\n",
        "# Load the image\n",
        "image = cv2.imread('input_image.jpg')\n",
        "\n",
        "# Specify the rotation angle (in degrees)\n",
        "angle = 45\n",
        "\n",
        "# Get the dimensions of the image\n",
        "height, width = image.shape[:2]\n",
        "\n",
        "# Calculate the rotation matrix\n",
        "rotation_matrix = cv2.getRotationMatrix2D((width / 2, height / 2), angle, 1)\n",
        "\n",
        "# Apply the rotation to the image\n",
        "rotated_image = cv2.warpAffine(image, rotation_matrix, (width, height))\n",
        "```\n",
        "\n",
        "In this code:\n",
        "- `cv2.getRotationMatrix2D()` computes the rotation matrix for the specified angle around the center of the image.\n",
        "- `cv2.warpAffine()` applies the rotation to the image using the computed rotation matrix.\n",
        "\n",
        "Make sure to replace `'input_image.jpg'` with the path to your input image, and adjust the `angle` variable to the desired rotation angle. Positive angles rotate the image counterclockwise, while negative angles rotate it clockwise."
      ],
      "metadata": {
        "id": "fDY_T0I7MfiQ"
      }
    },
    {
      "cell_type": "code",
      "source": [
        "import cv2\n",
        "import matplotlib.pyplot as plt\n",
        "\n",
        "# Load the image\n",
        "#image = cv2.imread('image.jpg')\n",
        "\n",
        "# Specify the rotation angle (in degrees) you can use minus to specify clockwise rotation\n",
        "angle = 90\n",
        "\n",
        "# Get the dimensions of the image\n",
        "height, width = image.shape[:2]\n",
        "\n",
        "# Calculate the rotation matrix\n",
        "rotation_matrix = cv2.getRotationMatrix2D((width / 2, height / 2), angle, 1)\n",
        "\n",
        "# Apply the rotation to the image\n",
        "rotated_image = cv2.warpAffine(image, rotation_matrix, (width, height))\n",
        "\n",
        "# Display the original and rotated images using Matplotlib\n",
        "plt.figure(figsize=(10, 5))\n",
        "\n",
        "plt.subplot(1, 2, 1)\n",
        "plt.title('Original Image')\n",
        "plt.imshow(cv2.cvtColor(image, cv2.COLOR_BGR2RGB))\n",
        "plt.axis('off')\n",
        "\n",
        "plt.subplot(1, 2, 2)\n",
        "plt.title('Rotated Image')\n",
        "plt.imshow(cv2.cvtColor(rotated_image, cv2.COLOR_BGR2RGB))\n",
        "plt.axis('off')\n",
        "\n",
        "plt.show()\n"
      ],
      "metadata": {
        "id": "yK8DgekgMmDN"
      },
      "execution_count": null,
      "outputs": []
    },
    {
      "cell_type": "markdown",
      "source": [
        "###Exercise 9\n",
        "\n",
        "Load any image, then rotate that image into 90° clockwise, counter-clockwise, and 180°. Plot original image and 3 other images in the same figure"
      ],
      "metadata": {
        "id": "0Z4wcZ4mPRS5"
      }
    },
    {
      "cell_type": "code",
      "source": [
        "#Type your code here"
      ],
      "metadata": {
        "id": "k10nR5adP90i"
      },
      "execution_count": null,
      "outputs": []
    },
    {
      "cell_type": "markdown",
      "source": [
        "## Thank you for completing this tutorial!\n",
        "\n",
        "\n",
        "## Author\n",
        "\n",
        "Ginanjar Suwasono Adi\n",
        "\n",
        "## <h3 align=\"center\"> © AIoT Research Group 2024. All rights reserved. <h3/>"
      ],
      "metadata": {
        "id": "jr2o1pSq0FgQ"
      }
    }
  ]
}