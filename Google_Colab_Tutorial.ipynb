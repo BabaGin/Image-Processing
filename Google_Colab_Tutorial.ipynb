{
  "nbformat": 4,
  "nbformat_minor": 0,
  "metadata": {
    "colab": {
      "provenance": [],
      "toc_visible": true,
      "mount_file_id": "1yoM6COpWSEmngSaNry4Dwq0WeJK6lSo4",
      "authorship_tag": "ABX9TyMkn4xCWaaTmD8xxNqaSELa",
      "include_colab_link": true
    },
    "kernelspec": {
      "name": "python3",
      "display_name": "Python 3"
    },
    "language_info": {
      "name": "python"
    }
  },
  "cells": [
    {
      "cell_type": "markdown",
      "metadata": {
        "id": "view-in-github",
        "colab_type": "text"
      },
      "source": [
        "<a href=\"https://colab.research.google.com/github/BabaGin/Image-Processing/blob/main/Google_Colab_Tutorial.ipynb\" target=\"_parent\"><img src=\"https://colab.research.google.com/assets/colab-badge.svg\" alt=\"Open In Colab\"/></a>"
      ]
    },
    {
      "cell_type": "markdown",
      "source": [
        "# **Tutorial 1 - Getting familiar with Google Colab and OpenCV**"
      ],
      "metadata": {
        "id": "BR4DtiPn9UH0"
      }
    },
    {
      "cell_type": "markdown",
      "source": [
        "\n",
        "![Mount Drive](https://drive.google.com/uc?id=1yibdRni2VyRt5XOIODRpFURhdVFgYYLB)"
      ],
      "metadata": {
        "id": "EDlZ8SrlI37F"
      }
    },
    {
      "cell_type": "markdown",
      "source": [
        "## **Introduction**\n",
        "\n",
        "**Google Colab** [(colab.research.google.com)](https://colab.research.google.com/), short for Google Colaboratory, is a free cloud-based platform by Google for running Python code in Jupyter notebooks. It provides access to GPUs and TPUs for accelerating computations. Colab integrates with Google Drive for easy storage and sharing of notebooks. It supports popular libraries like TensorFlow and PyTorch, making it ideal for machine learning tasks.\n",
        "\n",
        "**OpenCV** [(opencv.org)](https://opencv.org/) is an open-source computer vision and machine learning library used for various tasks like image and video processing, object detection, and machine learning. It's written in C++ and has interfaces for C++, Python, Java, and MATLAB/Octave, making it widely accessible to developers across different programming languages. Key features include image processing, video analysis, object detection, machine learning integration, computational photography, and camera calibration. OpenCV is widely used across industries like robotics, healthcare, and automotive for its versatility and extensive functionality."
      ],
      "metadata": {
        "id": "2mizTCbP9D5m"
      }
    },
    {
      "cell_type": "markdown",
      "source": [
        "## Accessing Google Colab\n",
        "\n",
        "To access Google Colab notebooks through Google Drive, you don't need to install anything. Google Colab is already integrated with Google Drive, allowing you to create, store, and share Colab notebooks directly within Google Drive.\n",
        "\n",
        "Here's how to access Google Colab through Google Drive:\n",
        "\n",
        "1. **Go to Google Drive**: Open your Google Drive account in a web browser.\n",
        "\n",
        "2. **Create a New Colab Notebook**: Click on the \"+ New\" button and select \"More\" -> \"Google Colaboratory\" (or simply go to [(colab.research.google.com)](https://colab.research.google.com/)).\n",
        "\n",
        "3. **Start Using Colab**: A new Colab notebook will open in a new tab. You can start writing and running Python code immediately.\n",
        "\n",
        "4. **Save to Google Drive**: To save the notebook to your Google Drive, go to \"File\" -> \"Save a copy in Drive\".\n",
        "\n",
        "5. **Accessing Existing Notebooks**: If you have existing Colab notebooks\n",
        "\n",
        "![Mount Drive](https://drive.google.com/uc?id=1DJ3gFg2IsNfOcbhIqPyC9qobKxemYxEp)\n",
        "\n",
        "saved in Google Drive, you can simply navigate to them in Google Drive and double-click to open them. Alternatively, you can right-click on the notebook file, select \"Open with,\" and choose Google Colaboratory.\n",
        "\n",
        "That's it! You can now use Google Colab seamlessly with Google Drive for creating, storing, and sharing your Python notebooks.\n",
        "\n",
        "### _**Just in case you cannot access Google Colab on your Drive, please follow these steps.**_\n",
        "\n",
        "\n",
        "![Mount Drive](https://drive.google.com/uc?id=1uZrxM1FjyL-4NsLp19cI_AQbug3n87P0)\n",
        "\n"
      ],
      "metadata": {
        "id": "Tc40gef_MrLN"
      }
    },
    {
      "cell_type": "markdown",
      "source": [
        "## Mounting Google Drive with Colab\n",
        "\n",
        "1. In a code cell within your Colab notebook, type:\n",
        "\n",
        "```python\n",
        "from google.colab import drive\n",
        "drive.mount('/content/drive')\n",
        "```\n",
        "\n",
        "2. Press Shift + Enter to execute the code cell or click play button on the left side of the cell.\n",
        "\n",
        "3. You will be prompted with a link to authorize Google Colab to access your Google Drive. Click on the link, sign in to your Google account if prompted, and copy the authorization code.\n",
        "\n",
        "4. Paste the authorization code into the designated area in the Colab notebook and press Enter.\n",
        "\n",
        "5. Google Drive will be mounted, and you can access your files and folders within the `/content/drive` directory in the Colab environment.\n",
        "\n",
        "Now you've successfully mounted Google Drive with Google Colab and can access files stored in your Google Drive directly from your Colab notebook."
      ],
      "metadata": {
        "id": "lVNi-yhZabv2"
      }
    },
    {
      "cell_type": "code",
      "execution_count": 5,
      "metadata": {
        "id": "8_6icoPL9Zap"
      },
      "outputs": [],
      "source": [
        "#Type your code here:\n"
      ]
    },
    {
      "cell_type": "markdown",
      "source": [
        "_**Alternatively, you can follow these steps to mount your Google Drive with Colab and access your files or directories on your drive.**_\n",
        "\n",
        "![Mount Drive](https://drive.google.com/uc?id=1UI1_NOPrpabaZaUOuLIy5xtgDfTD6f4q)\n"
      ],
      "metadata": {
        "id": "t8mi-OLqbsHe"
      }
    },
    {
      "cell_type": "markdown",
      "source": [
        "## Basic commands\n",
        "\n",
        "If you accidentally click the 'up one level' icon and the directories on your tab screen seem overwhelming, you don't need to worry. You can always navigate your current working directory using the following command in your cell:\n",
        "```python\n",
        "!pwd\n",
        "```\n",
        "\n",
        "![Mount Drive](https://drive.google.com/uc?id=1gzeZrhv1PPhl1rFF7srzCqDSKqhmKitx)\n",
        "\n"
      ],
      "metadata": {
        "id": "U_ufAvlJg4HX"
      }
    },
    {
      "cell_type": "code",
      "source": [
        "#Type your code here:\n"
      ],
      "metadata": {
        "id": "8jYsUS1miXtL"
      },
      "execution_count": 8,
      "outputs": []
    },
    {
      "cell_type": "markdown",
      "source": [
        "### Managing directories and files.\n",
        "\n",
        "In Google Colab, you can use basic Unix-like commands to manage directories and files. Here are some commonly used commands:\n",
        "\n",
        "1. **List Contents of Current Directory (`ls`):**\n",
        "```python\n",
        "!ls\n",
        "```\n",
        "This command lists the contents of the current directory.\n",
        "\n",
        "2. **Change Directory (`cd`):**\n",
        "```python\n",
        "%cd directory_path\n",
        "```\n",
        "This command changes the current directory to the specified directory path.\n",
        "\n",
        "3. **Make Directory (`mkdir`):**\n",
        "```python\n",
        "!mkdir directory_name\n",
        "```\n",
        "This command creates a new directory with the specified name in the current directory.\n",
        "\n",
        "4. **Remove Directory (`rm -r`):**\n",
        "```python\n",
        "!rm -r directory_name\n",
        "```\n",
        "This command removes the specified directory and all its contents. Be cautious when using it as it's irreversible.\n",
        "\n",
        "5. **Copy File (`cp`):**\n",
        "```python\n",
        "!cp source_file_path destination_file_path\n",
        "```\n",
        "This command copies the file from the source path to the destination path.\n",
        "\n",
        "6. **Move/Rename File (`mv`):**\n",
        "```python\n",
        "!mv old_file_path new_file_path\n",
        "```\n",
        "This command moves or renames the file from the old path to the new path.\n",
        "\n",
        "7. **Remove File (`rm`):**\n",
        "```python\n",
        "!rm file_name\n",
        "```\n",
        "This command removes the specified file. Be cautious when using it as it's irreversible.\n",
        "\n",
        "Remember to prefix these commands with an exclamation mark `!` to indicate that they are shell commands rather than Python code. These commands allow you to perform basic file and directory management tasks within your Google Colab environment."
      ],
      "metadata": {
        "id": "-ZtxDEwCExnA"
      }
    },
    {
      "cell_type": "code",
      "source": [
        "#Create a new folder in Google Drive using shell commands in Google Colab\n",
        "#Check on your GDrive if the folder that you've been made is exist\n",
        "#Type your code here:\n"
      ],
      "metadata": {
        "id": "SsJpSKXUFawx"
      },
      "execution_count": 24,
      "outputs": []
    },
    {
      "cell_type": "markdown",
      "source": [
        "Download this file [download sample1.jpeg](https://drive.google.com/uc?id=1VUuZPjsbew2a_AM3jWJQXeGXTvcTclOk) and manually place it in your new directory on your Google Drive."
      ],
      "metadata": {
        "id": "miN6r2-FOUhi"
      }
    },
    {
      "cell_type": "markdown",
      "source": [
        "### Download files from the internet\n",
        "\n",
        "In Google Colab, the `!wget` command is used to download files from the internet. Here's how you can use it:\n",
        "\n",
        "```python\n",
        "!wget <URL>\n",
        "```\n",
        "\n",
        "Replace `<URL>` with the direct link to the file you want to download. For example:\n",
        "\n",
        "```python\n",
        "!wget https://example.com/file.zip\n",
        "```\n",
        "\n",
        "This command will download the file from the specified URL to the current directory in your Colab environment. You can also specify a destination directory if you want to save the file to a specific location:\n",
        "\n",
        "```python\n",
        "!wget -P /path/to/destination/directory <URL>\n",
        "```\n",
        "\n",
        "Replace `/path/to/destination/directory` with the path where you want to save the downloaded file. For example:\n",
        "\n",
        "```python\n",
        "!wget -P /content/drive/My\\ Drive/Downloads https://example.com/file.zip\n",
        "```\n",
        "\n",
        "This command will download the file to the specified destination directory, in this case, `/content/drive/My Drive/Downloads`.\n"
      ],
      "metadata": {
        "id": "bfzO0X9hDzmv"
      }
    },
    {
      "cell_type": "code",
      "source": [
        "####### The Excercise ########\n",
        "#Check your current directory\n",
        "#Navigate your curent working directory to the directory that you just made\n",
        "#create your code and add new cells if needed\n",
        "#Type your code here:\n"
      ],
      "metadata": {
        "id": "GguMyNd2K475"
      },
      "execution_count": 28,
      "outputs": []
    },
    {
      "cell_type": "code",
      "source": [
        "#Type your code here:\n"
      ],
      "metadata": {
        "id": "SXWG5ZgFL3Rk"
      },
      "execution_count": null,
      "outputs": []
    },
    {
      "cell_type": "code",
      "source": [
        "#Type your code here:\n"
      ],
      "metadata": {
        "id": "jsp-axIYL6-n"
      },
      "execution_count": null,
      "outputs": []
    },
    {
      "cell_type": "markdown",
      "source": [
        "After ensuring you're in the correct directory, you can proceed to run the specified command."
      ],
      "metadata": {
        "id": "v5i9vclqMLEa"
      }
    },
    {
      "cell_type": "code",
      "source": [
        "!wget https://github.com/BabaGin/Image-Processing/blob/af4f49598972c918e730a2198583ef9c5bd41fc4/sample%20images/Hello.jpeg"
      ],
      "metadata": {
        "id": "b-Qe0KACMjbM"
      },
      "execution_count": null,
      "outputs": []
    },
    {
      "cell_type": "markdown",
      "source": [
        "Now check the list contents of current directory."
      ],
      "metadata": {
        "id": "HZgscNGsNXYI"
      }
    },
    {
      "cell_type": "code",
      "source": [
        "#Type your code here:\n"
      ],
      "metadata": {
        "id": "FNJKWvocNo2S"
      },
      "execution_count": null,
      "outputs": []
    },
    {
      "cell_type": "markdown",
      "source": [
        "## Python and its modules\n",
        "Let's get down to business!\n",
        "\n",
        "To import a Python module in Google Colab, you can simply use the `import` statement followed by the name of the module. If the module is not already installed in the Colab environment, you may need to install it using `!pip install`.\n",
        "\n",
        "Here's an example:\n",
        "\n",
        "```python\n",
        "# Importing a module\n",
        "import math\n",
        "\n",
        "# Using functions from the module\n",
        "print(math.sqrt(25))  # Output: 5.0\n",
        "```\n",
        "\n",
        "If you need to install a module before importing it, you can do so using `!pip install`. For example:\n",
        "\n",
        "```python\n",
        "# Installing a module\n",
        "!pip install numpy\n",
        "\n",
        "# Importing the installed module\n",
        "import numpy as np\n",
        "\n",
        "# Using functions from the module\n",
        "arr = np.array([1, 2, 3, 4, 5])\n",
        "print(arr)  # Output: [1 2 3 4 5]\n",
        "```\n",
        "\n",
        "Replace `numpy` with the name of the module you want to install and import. After installing it, you can import it as usual."
      ],
      "metadata": {
        "id": "qtkAmN8WRXGX"
      }
    },
    {
      "cell_type": "code",
      "source": [
        "#Feel free to play around in this cell (OPTIONAL)\n"
      ],
      "metadata": {
        "id": "xJFhIJXUUiHI"
      },
      "execution_count": 29,
      "outputs": []
    },
    {
      "cell_type": "markdown",
      "source": [
        "## Read and Display an image using OpenCV\n",
        "\n",
        "To import the OpenCV module in Google Colab, you first need to install it using `!pip install`. Once installed, you can import it using the `import` statement.\n",
        "\n",
        "Here's how you can do it:\n",
        "\n",
        "```python\n",
        "# Install OpenCV\n",
        "!pip install opencv-python\n",
        "\n",
        "# Import OpenCV\n",
        "import cv2\n",
        "```\n",
        "\n",
        "After running these commands in separate code cells, you'll have OpenCV installed and imported in your Google Colab notebook. You can then use OpenCV functions for various computer vision tasks."
      ],
      "metadata": {
        "id": "6-c2C6-mTzOS"
      }
    },
    {
      "cell_type": "markdown",
      "source": [
        "### Reading file image\n",
        "\n",
        "The `cv2.imread()` function serves to read an image, taking two parameters. The initial parameter is the image path, which can be just the image's name if it resides in the working directory; otherwise, the complete path must be specified. The second parameter constitutes a flag, indicating how the image should be processed upon reading. Three flag options are available:\n",
        "\n",
        "1. `cv2.IMREAD_COLOR`: This option loads a color image, ignoring any transparency present in the image. It stands as the default flag.\n",
        "\n",
        "2. `cv2.IMREAD_GRAYSCALE`: Selecting this flag loads the image in grayscale mode.\n",
        "\n",
        "3. `cv2.IMREAD_UNCHANGED`: By employing this flag, the image is loaded as-is, preserving any alpha channel data.\n",
        "\n",
        "These flags are directly applicable, alleviating the need to utilize the respective integer values (1, 0, and -1).\n",
        "\n",
        "Replace 'image.jpg' with the path to your image file."
      ],
      "metadata": {
        "id": "cwcIL8A5b_R_"
      }
    },
    {
      "cell_type": "code",
      "source": [
        "# Import OpenCV\n",
        "import cv2\n",
        "# Import matplotlib library\n",
        "from matplotlib import pyplot as plt\n",
        "\n",
        "# Read an image using OpenCV\n",
        "img = cv2.imread('image.jpg')\n",
        "#Remember to replace 'image.jpg' with the path to your image file"
      ],
      "metadata": {
        "id": "EeuFSyJCTrEF"
      },
      "execution_count": 54,
      "outputs": []
    },
    {
      "cell_type": "markdown",
      "source": [
        "### Image Display\n",
        "\n",
        "The `cv2.imshow()` function is employed to exhibit an image within a window. This function necessitates two arguments. The first argument denotes the window's name, where it's advisable to assign unique names for displaying multiple images. The second argument represents the image to be showcased.\n",
        "\n",
        "`cv2.waitKey()` acts as a keyboard binding function. It accepts an argument denoting time in milliseconds. The function remains in a waiting state for the specified duration, anticipating any keyboard event. If a key is pressed within that timeframe, the program proceeds accordingly. Setting the argument to 0 results in an indefinite wait for a keystroke. It can also be configured to recognize specific keystrokes, such as the Q key or the ESC key.\n",
        "\n",
        "`cv2.destroyAllWindows()` is responsible for closing all created windows. To close a specific window, utilize the `cv2.destroyWindow()` function, providing the precise window name as its argument.\n",
        "\n",
        "Due to limitations in Jupyter/Colab notebook environments, interactive functions like `cv2.imshow()` are incompatible. Consequently, we will resort to using Matplotlib instead.\n",
        "\n",
        "The function `plt.imshow()` is used to specify the image to be displayed and the function plt.show() is used to display it.\n",
        "\n",
        "To hide the tick values on x and y axis, the function `plt.axis(\"off\")` can be used.\n",
        "\n"
      ],
      "metadata": {
        "id": "lRxFS3xsavau"
      }
    },
    {
      "cell_type": "code",
      "source": [
        "plt.imshow(img)\n",
        "plt.axis(\"off\")\n",
        "plt.show()"
      ],
      "metadata": {
        "id": "EM2j9KrtYUui"
      },
      "execution_count": null,
      "outputs": []
    },
    {
      "cell_type": "markdown",
      "source": [
        "**How come the displayed image become like that?**\n",
        "\n",
        "The discrepancy between the displayed image and the expected result arises from how OpenCV represents RGB images. OpenCV stores RGB images as multi-dimensional NumPy arrays, but with a reversal in order. Consequently, images are actually encoded in BGR (Blue, Green, Red) order instead of RGB. To rectify this, it's necessary to convert the image from BGR to RGB format.\n",
        "\n",
        "```python\n",
        "plt.imshow(cv2.cvtColor(img, cv2.COLOR_BGR2RGB))\n",
        "```"
      ],
      "metadata": {
        "id": "gXQp6mBucjv0"
      }
    },
    {
      "cell_type": "markdown",
      "source": [
        "## Exercise\n",
        "\n",
        "\n",
        "1.   Correct the image color by performing a conversion from BGR to RGB format.\n",
        "\n",
        "2.   Generate a grayscale version of the image.\n"
      ],
      "metadata": {
        "id": "T0S4mXMAeyg5"
      }
    },
    {
      "cell_type": "code",
      "source": [
        "#Color image\n",
        "#Type your code here:\n"
      ],
      "metadata": {
        "id": "M7T2LScKc_7T"
      },
      "execution_count": null,
      "outputs": []
    },
    {
      "cell_type": "code",
      "source": [
        "#Grayscale image\n",
        "#Type your code here:"
      ],
      "metadata": {
        "id": "b_rE8HTHgYfI"
      },
      "execution_count": null,
      "outputs": []
    }
  ]
}